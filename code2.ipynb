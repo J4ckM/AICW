{
  "nbformat": 4,
  "nbformat_minor": 0,
  "metadata": {
    "colab": {
      "provenance": [],
      "authorship_tag": "ABX9TyOD/q0ztf7zckDxhYrp+Y7z",
      "include_colab_link": true
    },
    "kernelspec": {
      "name": "python3",
      "display_name": "Python 3"
    },
    "language_info": {
      "name": "python"
    }
  },
  "cells": [
    {
      "cell_type": "markdown",
      "metadata": {
        "id": "view-in-github",
        "colab_type": "text"
      },
      "source": [
        "<a href=\"https://colab.research.google.com/github/SNOOR7/AICW/blob/main/code2.ipynb\" target=\"_parent\"><img src=\"https://colab.research.google.com/assets/colab-badge.svg\" alt=\"Open In Colab\"/></a>"
      ]
    },
    {
      "cell_type": "markdown",
      "source": [
        "Imports"
      ],
      "metadata": {
        "id": "5kcgYgkarLii"
      }
    },
    {
      "cell_type": "code",
      "execution_count": 54,
      "metadata": {
        "colab": {
          "base_uri": "https://localhost:8080/"
        },
        "id": "WgCi3aTaM3-_",
        "outputId": "034f0ec8-2fe5-47a9-b3a8-9436d139565f"
      },
      "outputs": [
        {
          "output_type": "stream",
          "name": "stdout",
          "text": [
            "Requirement already satisfied: matplotlib in /usr/local/lib/python3.10/dist-packages (3.7.1)\n",
            "Requirement already satisfied: contourpy>=1.0.1 in /usr/local/lib/python3.10/dist-packages (from matplotlib) (1.2.0)\n",
            "Requirement already satisfied: cycler>=0.10 in /usr/local/lib/python3.10/dist-packages (from matplotlib) (0.12.1)\n",
            "Requirement already satisfied: fonttools>=4.22.0 in /usr/local/lib/python3.10/dist-packages (from matplotlib) (4.47.0)\n",
            "Requirement already satisfied: kiwisolver>=1.0.1 in /usr/local/lib/python3.10/dist-packages (from matplotlib) (1.4.5)\n",
            "Requirement already satisfied: numpy>=1.20 in /usr/local/lib/python3.10/dist-packages (from matplotlib) (1.23.5)\n",
            "Requirement already satisfied: packaging>=20.0 in /usr/local/lib/python3.10/dist-packages (from matplotlib) (23.2)\n",
            "Requirement already satisfied: pillow>=6.2.0 in /usr/local/lib/python3.10/dist-packages (from matplotlib) (9.4.0)\n",
            "Requirement already satisfied: pyparsing>=2.3.1 in /usr/local/lib/python3.10/dist-packages (from matplotlib) (3.1.1)\n",
            "Requirement already satisfied: python-dateutil>=2.7 in /usr/local/lib/python3.10/dist-packages (from matplotlib) (2.8.2)\n",
            "Requirement already satisfied: six>=1.5 in /usr/local/lib/python3.10/dist-packages (from python-dateutil>=2.7->matplotlib) (1.16.0)\n",
            "\u001b[31mERROR: Could not find a version that satisfies the requirement copy (from versions: none)\u001b[0m\u001b[31m\n",
            "\u001b[0m\u001b[31mERROR: No matching distribution found for copy\u001b[0m\u001b[31m\n",
            "\u001b[0m"
          ]
        }
      ],
      "source": [
        "import matplotlib.pyplot as plt\n",
        "import numpy as np\n",
        "import keras\n",
        "\n",
        "!pip install matplotlib\n",
        "!pip install copy\n"
      ]
    },
    {
      "cell_type": "markdown",
      "source": [
        "Load Data"
      ],
      "metadata": {
        "id": "GixqxkcjrBfr"
      }
    },
    {
      "cell_type": "code",
      "source": [
        "(x_train, y_train), (x_test, y_test) = keras.datasets.mnist.load_data()"
      ],
      "metadata": {
        "colab": {
          "base_uri": "https://localhost:8080/"
        },
        "id": "iaEE-zR_q_bI",
        "outputId": "d1afc729-97b7-4b14-eaa1-190793b88550"
      },
      "execution_count": 1,
      "outputs": [
        {
          "output_type": "stream",
          "name": "stdout",
          "text": [
            "Downloading data from https://storage.googleapis.com/tensorflow/tf-keras-datasets/mnist.npz\n",
            "11490434/11490434 [==============================] - 0s 0us/step\n"
          ]
        }
      ]
    },
    {
      "cell_type": "markdown",
      "source": [
        "Get pixel gradienrt values"
      ],
      "metadata": {
        "id": "rT6LusDPrjQ3"
      }
    },
    {
      "cell_type": "code",
      "source": [
        "x_train = x_train.astype(\"float32\") / 255.0\n",
        "x_test = x_test.astype(\"float32\") / 255.0\n"
      ],
      "metadata": {
        "id": "r23n3LWSrmPo"
      },
      "execution_count": null,
      "outputs": []
    },
    {
      "cell_type": "markdown",
      "source": [
        "Convert Labels"
      ],
      "metadata": {
        "id": "G8AeiY4BsN8D"
      }
    },
    {
      "cell_type": "code",
      "source": [
        "def one_hot_encoding(labels, num_classes):\n",
        "    num_samples = len(labels)\n",
        "    encoded_labels = np.zeros((num_samples, num_classes))\n",
        "    for i in range(num_samples):\n",
        "        encoded_labels[i, labels[i]] = 1\n",
        "    return encoded_labels\n",
        "\n",
        "\n",
        "num_classes = 10\n",
        "y_train_one_hot = one_hot_encoding(y_train, num_classes)\n",
        "y_test_one_hot = one_hot_encoding(y_test, num_classes)\n"
      ],
      "metadata": {
        "id": "72VNTRqQsPeg"
      },
      "execution_count": 7,
      "outputs": []
    },
    {
      "cell_type": "markdown",
      "source": [
        "Data Visualization"
      ],
      "metadata": {
        "id": "G4ZXB8JssQYM"
      }
    },
    {
      "cell_type": "code",
      "source": [
        "num_classes = 10\n",
        "y_train_one_hot = one_hot_encoding(y_train, num_classes)\n",
        "y_test_one_hot = one_hot_encoding(y_test, num_classes)\n",
        "\n",
        "# Activation Functions and Their Derivatives\n",
        "def sigmoid(x):\n",
        "    return 1 / (1 + np.exp(-x))\n",
        "\n",
        "\n",
        "def sigmoid_derivative(x):\n",
        "    return sigmoid(x) * (1 - sigmoid(x))\n",
        "\n",
        "\n",
        "def relu(x):\n",
        "    return np.maximum(0, x)\n",
        "\n",
        "\n",
        "def relu_derivative(x):\n",
        "    return np.where(x > 0, 1, 0)"
      ],
      "metadata": {
        "id": "Sn7cmPPMuRzO"
      },
      "execution_count": 8,
      "outputs": []
    },
    {
      "cell_type": "markdown",
      "source": [
        "Dropout and softmax"
      ],
      "metadata": {
        "id": "t1FOiNRJ7-4-"
      }
    },
    {
      "cell_type": "code",
      "source": [
        "def softmax(x):\n",
        "    exponent_vals = np.exp(x - np.max(x, axis=1, keepdims=True))\n",
        "    return exponent_vals / np.sum(exponent_vals, axis=1, keepdims=True)\n",
        "\n",
        "\n",
        "class Dropout:\n",
        "    def __init__(self, dropout_rate):\n",
        "        self.dropout_rate = dropout_rate\n",
        "        self.mask = None\n",
        "\n",
        "    def forward(self, x, training=True):\n",
        "        if training:\n",
        "            self.mask = (\n",
        "                np.random.rand(*x.shape) < self.dropout_rate\n",
        "            ) / self.dropout_rate\n",
        "            return x * self.mask\n",
        "        else:\n",
        "            return x\n",
        "\n",
        "    def backward(self, grad):\n",
        "        return grad * self.mask\n",
        "\n"
      ],
      "metadata": {
        "id": "hDEeTWgJ8IYq"
      },
      "execution_count": 9,
      "outputs": []
    },
    {
      "cell_type": "code",
      "source": [
        "print(\"Input shape:\", x_train.shape)"
      ],
      "metadata": {
        "colab": {
          "base_uri": "https://localhost:8080/"
        },
        "id": "edC79qNgBY0m",
        "outputId": "830707c5-a417-4ad4-e572-2e5a31012007"
      },
      "execution_count": 30,
      "outputs": [
        {
          "output_type": "stream",
          "name": "stdout",
          "text": [
            "Input shape: (60000, 28, 28)\n"
          ]
        }
      ]
    },
    {
      "cell_type": "code",
      "source": [
        "for i, layer in enumerate(model.layers):\n",
        "    print(f\"Layer {i} shape: {layer.shape}\")"
      ],
      "metadata": {
        "colab": {
          "base_uri": "https://localhost:8080/"
        },
        "id": "xHig5qe2BivL",
        "outputId": "8df9798c-bcc7-4b5d-c283-256a8595d670"
      },
      "execution_count": 79,
      "outputs": [
        {
          "output_type": "stream",
          "name": "stdout",
          "text": [
            "Layer 0 shape: (784, 128)\n",
            "Layer 1 shape: (128, 64)\n",
            "Layer 2 shape: (64, 10)\n"
          ]
        }
      ]
    },
    {
      "cell_type": "markdown",
      "source": [
        "Neural Network"
      ],
      "metadata": {
        "id": "_guhmaYR8KFu"
      }
    },
    {
      "cell_type": "code",
      "source": [
        "class NeuralNetwork:\n",
        "    def __init__(self, input_size, hidden_layers, output_size, activation=\"relu\", dropout_rate=0.0):\n",
        "        self.input_size = input_size\n",
        "        self.hidden_layers = hidden_layers\n",
        "        self.output_size = output_size\n",
        "        self.layers = []\n",
        "        self.activation = activation\n",
        "        self.dropout = Dropout(dropout_rate)\n",
        "        self.build_network()\n",
        "\n",
        "    def build_network(self):\n",
        "        layer_sizes = [self.input_size] + self.hidden_layers + [self.output_size]\n",
        "        for i in range(len(layer_sizes) - 1):\n",
        "            self.layers.append(np.random.randn(layer_sizes[i], layer_sizes[i + 1]) * 0.01)\n",
        "\n",
        "    def forwardPass(self, x, training=True):\n",
        "        layer_output = x\n",
        "        self.layer_outputs = [layer_output]\n",
        "        for layer in self.layers:\n",
        "            layer_output = np.dot(layer_output, layer)\n",
        "            if self.activation == \"relu\":\n",
        "                layer_output = relu(layer_output)\n",
        "            elif self.activation == \"sigmoid\":\n",
        "                layer_output = sigmoid(layer_output)\n",
        "            self.layer_outputs.append(layer_output)\n",
        "            if training:\n",
        "                layer_output = self.dropout.forward(layer_output, training)\n",
        "        return softmax(layer_output)\n",
        "\n",
        "    def backwardPass(self, x, y):\n",
        "        gradients = []\n",
        "        predictions = self.forwardPass(x, training=True)\n",
        "        num_samples = x.shape[0]\n",
        "        output_error = predictions - y\n",
        "\n",
        "        for i in reversed(range(len(self.layers))):\n",
        "            if self.activation == \"relu\":\n",
        "                derivative = relu_derivative(self.layer_outputs[i + 1])\n",
        "            elif self.activation == \"sigmoid\":\n",
        "                derivative = sigmoid_derivative(self.layer_outputs[i + 1])\n",
        "            else:\n",
        "                derivative = 1\n",
        "            grad = (np.dot(self.layer_outputs[i].T, output_error * derivative) / num_samples)\n",
        "            gradients.append(grad)\n",
        "            output_error = np.dot(output_error * derivative, self.layers[i].T)\n",
        "        gradients.reverse()\n",
        "        return gradients\n",
        "\n",
        "    def updateWeights(self, gradients, learning_rate):\n",
        "        for i in range(len(self.layers)):\n",
        "            self.layers[i] -= learning_rate.learning_rate * gradients[i]\n",
        "\n",
        "    def computeLoss(self, predictions, targets):\n",
        "        num_samples = predictions.shape[0]\n",
        "        loss = -np.sum(targets * np.log(predictions + 1e-10)) / num_samples\n",
        "        return loss\n",
        "\n",
        "    def train(self, x_train, y_train, x_test, y_test, epochs, batch_size, learning_rate):\n",
        "        train_losses, train_accuracies, test_accuracies = [], [], []\n",
        "\n",
        "        for epoch in range(epochs):\n",
        "            total_loss = 0.0\n",
        "            for i in range(0, len(x_train), batch_size):\n",
        "                x_batch = x_train[i: i + batch_size]\n",
        "                y_batch = y_train[i: i + batch_size]\n",
        "                grad = self.backwardPass(x_batch, y_batch)\n",
        "                self.updateWeights(grad, learning_rate)\n",
        "\n",
        "                predictions = self.forwardPass(x_batch, training=False)\n",
        "                batch_loss = self.computeLoss(predictions, y_batch)\n",
        "                total_loss += batch_loss\n",
        "\n",
        "            avg_loss = total_loss / (len(x_train) // batch_size)\n",
        "            train_losses.append(avg_loss)\n",
        "\n",
        "            train_pred = np.argmax(self.forwardPass(x_train, training=False), axis=1)\n",
        "            train_acc = np.mean(train_pred == np.argmax(y_train, axis=1))\n",
        "            test_pred = np.argmax(self.forwardPass(x_test, training=False), axis=1)\n",
        "            test_acc = np.mean(test_pred == np.argmax(y_test, axis=1))\n",
        "\n",
        "            train_accuracies.append(train_acc)\n",
        "            test_accuracies.append(test_acc)\n",
        "\n",
        "            print(f'Epoch {epoch}: Loss = {avg_loss:.4f}, Train Acc = {train_acc:.4f}, Test Acc = {test_acc:.4f}')\n",
        "\n",
        "        return train_losses, train_accuracies, test_accuracies\n",
        "\n",
        "\n",
        "\n"
      ],
      "metadata": {
        "id": "63TZTt3C8Rpx"
      },
      "execution_count": 80,
      "outputs": []
    },
    {
      "cell_type": "markdown",
      "source": [
        "Optimizer"
      ],
      "metadata": {
        "id": "8JKATP058Z-g"
      }
    },
    {
      "cell_type": "code",
      "source": [
        "class Optimizer:\n",
        "    def __init__(self, learning_rate):\n",
        "        self.learning_rate = learning_rate\n",
        "\n",
        "    def update(self, layers, gradients):\n",
        "        pass\n",
        "\n",
        "\n",
        "class SGD(Optimizer):\n",
        "    def update(self, layers, gradients):\n",
        "        for i in range(len(layers)):\n",
        "            layers[i] -= self.learning_rate * gradients[i]\n",
        "\n",
        "\n",
        "class Momentum(Optimizer):\n",
        "    def __init__(self, layers, learning_rate, momentum=0.9):\n",
        "        super().__init__(learning_rate)\n",
        "        self.momentum = momentum\n",
        "        self.velocities = [np.zeros_like(layer) for layer in layers]\n",
        "\n",
        "    def update(self, layers, gradients):\n",
        "        for i in range(len(layers)):\n",
        "            self.velocities[i] = (\n",
        "                self.momentum * self.velocities[i] - self.learning_rate * gradients[i]\n",
        "            )\n",
        "            layers[i] += self.velocities[i]\n",
        ""
      ],
      "metadata": {
        "id": "VYcyrISe8cC9"
      },
      "execution_count": 81,
      "outputs": []
    },
    {
      "cell_type": "code",
      "source": [
        "x_train = x_train.reshape(x_train.shape[0], -1)\n",
        "x_test = x_test.reshape(x_test.shape[0], -1)"
      ],
      "metadata": {
        "id": "3JuzxSMyG7H9"
      },
      "execution_count": 43,
      "outputs": []
    },
    {
      "cell_type": "code",
      "source": [
        "print(\"x_train shape:\", x_train.shape)\n"
      ],
      "metadata": {
        "colab": {
          "base_uri": "https://localhost:8080/"
        },
        "id": "4lPcme_dE7Pv",
        "outputId": "f42ac447-3759-4c08-a396-8e7bc0bd2600"
      },
      "execution_count": 44,
      "outputs": [
        {
          "output_type": "stream",
          "name": "stdout",
          "text": [
            "x_train shape: (60000, 784)\n"
          ]
        }
      ]
    },
    {
      "cell_type": "markdown",
      "source": [
        "Test"
      ],
      "metadata": {
        "id": "h0Rw3H8g8pIR"
      }
    },
    {
      "source": [
        "# Define hyperparameters\n",
        "input_size = 784  # 28x28 pixels flattened\n",
        "hidden_layers = [128, 64]\n",
        "output_size = num_classes\n",
        "epochs = 20\n",
        "batch_size = 64\n",
        "learning_rate = 0.01\n",
        "\n",
        "# Create Neural Network instance with sigmoid activation\n",
        "model = NeuralNetwork(input_size, hidden_layers, output_size, activation=\"sigmoid\", dropout_rate=0.2)\n",
        "\n",
        "# Choose the optimizer\n",
        "optimizer = SGD(learning_rate)\n",
        "# Or use Momentum optimizer\n",
        "# optimizer = Momentum(model.layers, learning_rate)\n",
        "\n",
        "# Train the model\n",
        "train_losses, train_accuracies, test_accuracies = model.train(\n",
        "    x_train, y_train_one_hot, x_test, y_test_one_hot, epochs, batch_size, optimizer\n",
        ")\n",
        "\n",
        "# Plotting\n",
        "epochs_range = range(epochs)\n",
        "plt.figure(figsize=(12, 4))\n",
        "\n",
        "plt.subplot(1, 2, 1)\n",
        "plt.plot(epochs_range, train_losses, label='Training Loss')\n",
        "plt.title('Training Loss')\n",
        "plt.xlabel('Epochs')\n",
        "plt.ylabel('Loss')\n",
        "plt.legend()\n",
        "\n",
        "plt.subplot(1, 2, 2)\n",
        "plt.plot(epochs_range, train_accuracies, label='Training Accuracy')\n",
        "plt.plot(epochs_range, test_accuracies, label='Testing Accuracy')\n",
        "plt.title('Training and Testing Accuracy')\n",
        "plt.xlabel('Epochs')\n",
        "plt.ylabel('Accuracy')\n",
        "plt.legend()\n",
        "\n",
        "plt.show()"
      ],
      "cell_type": "code",
      "metadata": {
        "colab": {
          "base_uri": "https://localhost:8080/",
          "height": 720
        },
        "id": "3mCvKCWT9hk2",
        "outputId": "4fb506f0-ed81-4f04-f574-c638f544ae8b"
      },
      "execution_count": 83,
      "outputs": [
        {
          "output_type": "stream",
          "name": "stdout",
          "text": [
            "Epoch 0: Loss = 2.3041, Train Acc = 0.1124, Test Acc = 0.1135\n",
            "Epoch 1: Loss = 2.3028, Train Acc = 0.1124, Test Acc = 0.1135\n",
            "Epoch 2: Loss = 2.3016, Train Acc = 0.1124, Test Acc = 0.1135\n"
          ]
        },
        {
          "output_type": "stream",
          "name": "stderr",
          "text": [
            "<ipython-input-8-5d04b2c3ab94>:7: RuntimeWarning: overflow encountered in exp\n",
            "  return 1 / (1 + np.exp(-x))\n"
          ]
        },
        {
          "output_type": "stream",
          "name": "stdout",
          "text": [
            "Epoch 3: Loss = 2.2997, Train Acc = 0.1124, Test Acc = 0.1135\n",
            "Epoch 4: Loss = 2.2964, Train Acc = 0.1250, Test Acc = 0.1264\n",
            "Epoch 5: Loss = 2.2900, Train Acc = 0.1946, Test Acc = 0.1931\n",
            "Epoch 6: Loss = 2.2776, Train Acc = 0.2053, Test Acc = 0.2039\n",
            "Epoch 7: Loss = 2.2545, Train Acc = 0.3062, Test Acc = 0.3069\n",
            "Epoch 8: Loss = 2.2177, Train Acc = 0.3543, Test Acc = 0.3548\n",
            "Epoch 9: Loss = 2.1717, Train Acc = 0.3517, Test Acc = 0.3548\n",
            "Epoch 10: Loss = 2.1269, Train Acc = 0.3497, Test Acc = 0.3500\n",
            "Epoch 11: Loss = 2.0908, Train Acc = 0.3370, Test Acc = 0.3350\n",
            "Epoch 12: Loss = 2.0633, Train Acc = 0.3440, Test Acc = 0.3418\n",
            "Epoch 13: Loss = 2.0433, Train Acc = 0.3396, Test Acc = 0.3352\n",
            "Epoch 14: Loss = 2.0277, Train Acc = 0.3371, Test Acc = 0.3305\n",
            "Epoch 15: Loss = 2.0160, Train Acc = 0.3249, Test Acc = 0.3180\n",
            "Epoch 16: Loss = 2.0074, Train Acc = 0.3287, Test Acc = 0.3209\n",
            "Epoch 17: Loss = 1.9999, Train Acc = 0.3305, Test Acc = 0.3250\n",
            "Epoch 18: Loss = 1.9942, Train Acc = 0.3259, Test Acc = 0.3191\n",
            "Epoch 19: Loss = 1.9897, Train Acc = 0.3243, Test Acc = 0.3179\n"
          ]
        },
        {
          "output_type": "display_data",
          "data": {
            "text/plain": [
              "<Figure size 1200x400 with 2 Axes>"
            ],
            "image/png": "[encoded data removed]"
          },
          "metadata": {}
        }
      ]
    }
  ]
}